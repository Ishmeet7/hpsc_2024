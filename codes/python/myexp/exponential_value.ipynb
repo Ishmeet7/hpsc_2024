{
 "cells": [
  {
   "cell_type": "code",
   "execution_count": null,
   "id": "e352a11b",
   "metadata": {},
   "outputs": [],
   "source": [
    "#Calculation exponential without built in function\n",
    "def calc_exp(x,kmax=100):\n",
    "    from math import factorial\n",
    "\t\n",
    "    sum=1\n",
    "    for i in range(1,kmax):\n",
    "        sum0=sum\n",
    "        tol=1.0e-14\n",
    "        sum=sum+(((x)**i)/(factorial(i)))\n",
    "        #print(sum)\n",
    "        diff=abs(sum0-sum)\n",
    "        if diff <tol:\n",
    "           break\n",
    "    return sum"
   ]
  },
  {
   "cell_type": "code",
   "execution_count": null,
   "id": "a7291a75",
   "metadata": {},
   "outputs": [],
   "source": [
    "import numpy as np\n",
    "import matplotlib.pyplot as plt\n",
    "x=np.linspace(0,100,1000)"
   ]
  },
  {
   "cell_type": "code",
   "execution_count": null,
   "id": "673f3c32",
   "metadata": {},
   "outputs": [],
   "source": [
    "%%timeit\n",
    "y0=[]\n",
    "\n",
    "for i in x:\n",
    "  \n",
    "    y0.append(calc_exp(i))\n",
    "    #print(y0)\n",
    "y_exp=y0    #\n",
    "#print(y_exp)"
   ]
  },
  {
   "cell_type": "code",
   "execution_count": null,
   "id": "62797763",
   "metadata": {},
   "outputs": [],
   "source": [
    "%%timeit\n",
    "y_numpy=np.exp(x)\n"
   ]
  },
  {
   "cell_type": "code",
   "execution_count": null,
   "id": "cfd09e96",
   "metadata": {},
   "outputs": [],
   "source": [
    "plt.plot(x,y_exp)"
   ]
  },
  {
   "cell_type": "code",
   "execution_count": null,
   "id": "a5bac309",
   "metadata": {},
   "outputs": [],
   "source": [
    "plt.plot(x,y_numpy)"
   ]
  },
  {
   "cell_type": "code",
   "execution_count": null,
   "id": "2f159459",
   "metadata": {},
   "outputs": [],
   "source": []
  }
 ],
 "metadata": {
  "kernelspec": {
   "display_name": "Python 3 (ipykernel)",
   "language": "python",
   "name": "python3"
  },
  "language_info": {
   "codemirror_mode": {
    "name": "ipython",
    "version": 3
   },
   "file_extension": ".py",
   "mimetype": "text/x-python",
   "name": "python",
   "nbconvert_exporter": "python",
   "pygments_lexer": "ipython3",
   "version": "3.10.12"
  }
 },
 "nbformat": 4,
 "nbformat_minor": 5
}
